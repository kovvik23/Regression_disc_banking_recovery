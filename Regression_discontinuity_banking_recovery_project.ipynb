{
 "cells": [
  {
   "attachments": {},
   "cell_type": "markdown",
   "id": "44014d09",
   "metadata": {},
   "source": [
    "## 1. Regression discontinuity: banking recovery\n",
    "<p>Project description from <a href=\"https://www.datacamp.com/projects/504\">https://www.datacamp.com/projects/504</a>\n",
    "<p>After a debt has been legally declared \"uncollectable\" by a bank, the account is considered \"charged-off.\" But that doesn't mean the bank <strong><em>walks away</em></strong> from the debt. They still want to collect some of the money they are owed. The bank will score the account to assess the expected recovery amount, that is, the expected amount that the bank may be able to receive from the customer in the future. This amount is a function of the probability of the customer paying, the total debt, and other factors that impact the ability and willingness to pay.</p>\n",
    "<p>The bank has implemented different recovery strategies at different thresholds (\\$1000, \\$2000, etc.) where the greater the expected recovery amount, the more effort the bank puts into contacting the customer. For low recovery amounts (Level 0), the bank just adds the customer's contact information to their automatic dialer and emailing system. For higher recovery strategies, the bank incurs more costs as they leverage human resources in more efforts to obtain payments. Each additional level of recovery strategy requires an additional \\$50 per customer so that customers in the recovery strategy level 1 cost the company \\$50 more than those in Level 0. Customers in Level 2 cost \\$50 more than those in Level 1, etc. </p>\n",
    "<p><strong>The big question</strong>: does the extra amount that is recovered at the higher strategy level exceed the extra \\$50 in costs? In other words, was there a jump (also called a \"discontinuity\") of more than \\$50 in the amount recovered at the higher strategy level? <b>[1] [2] </p>\n",
    "<p> <b> Regression discontinuity </b> <i> <p>Plots from <b> [1]</b></i>\n",
    "<img src=\"https://assets.datacamp.com/production/project_504/img/Regression Discontinuity graph.png\"/> "
   ]
  },
  {
   "cell_type": "code",
   "execution_count": 11,
   "id": "a51e8cca",
   "metadata": {},
   "outputs": [
    {
     "data": {
      "text/html": [
       "<div>\n",
       "<style scoped>\n",
       "    .dataframe tbody tr th:only-of-type {\n",
       "        vertical-align: middle;\n",
       "    }\n",
       "\n",
       "    .dataframe tbody tr th {\n",
       "        vertical-align: top;\n",
       "    }\n",
       "\n",
       "    .dataframe thead th {\n",
       "        text-align: right;\n",
       "    }\n",
       "</style>\n",
       "<table border=\"1\" class=\"dataframe\">\n",
       "  <thead>\n",
       "    <tr style=\"text-align: right;\">\n",
       "      <th></th>\n",
       "      <th>id</th>\n",
       "      <th>expected_recovery_amount</th>\n",
       "      <th>actual_recovery_amount</th>\n",
       "      <th>recovery_strategy</th>\n",
       "      <th>age</th>\n",
       "      <th>sex</th>\n",
       "    </tr>\n",
       "  </thead>\n",
       "  <tbody>\n",
       "    <tr>\n",
       "      <th>0</th>\n",
       "      <td>2030</td>\n",
       "      <td>194</td>\n",
       "      <td>263.540</td>\n",
       "      <td>Level 0 Recovery</td>\n",
       "      <td>19</td>\n",
       "      <td>Male</td>\n",
       "    </tr>\n",
       "    <tr>\n",
       "      <th>1</th>\n",
       "      <td>1150</td>\n",
       "      <td>486</td>\n",
       "      <td>416.090</td>\n",
       "      <td>Level 0 Recovery</td>\n",
       "      <td>25</td>\n",
       "      <td>Female</td>\n",
       "    </tr>\n",
       "    <tr>\n",
       "      <th>2</th>\n",
       "      <td>380</td>\n",
       "      <td>527</td>\n",
       "      <td>429.350</td>\n",
       "      <td>Level 0 Recovery</td>\n",
       "      <td>27</td>\n",
       "      <td>Male</td>\n",
       "    </tr>\n",
       "    <tr>\n",
       "      <th>3</th>\n",
       "      <td>1838</td>\n",
       "      <td>536</td>\n",
       "      <td>296.990</td>\n",
       "      <td>Level 0 Recovery</td>\n",
       "      <td>25</td>\n",
       "      <td>Male</td>\n",
       "    </tr>\n",
       "    <tr>\n",
       "      <th>4</th>\n",
       "      <td>1995</td>\n",
       "      <td>541</td>\n",
       "      <td>346.385</td>\n",
       "      <td>Level 0 Recovery</td>\n",
       "      <td>34</td>\n",
       "      <td>Male</td>\n",
       "    </tr>\n",
       "  </tbody>\n",
       "</table>\n",
       "</div>"
      ],
      "text/plain": [
       "     id  expected_recovery_amount  actual_recovery_amount recovery_strategy  \\\n",
       "0  2030                       194                 263.540  Level 0 Recovery   \n",
       "1  1150                       486                 416.090  Level 0 Recovery   \n",
       "2   380                       527                 429.350  Level 0 Recovery   \n",
       "3  1838                       536                 296.990  Level 0 Recovery   \n",
       "4  1995                       541                 346.385  Level 0 Recovery   \n",
       "\n",
       "   age     sex  \n",
       "0   19    Male  \n",
       "1   25  Female  \n",
       "2   27    Male  \n",
       "3   25    Male  \n",
       "4   34    Male  "
      ]
     },
     "execution_count": 11,
     "metadata": {},
     "output_type": "execute_result"
    }
   ],
   "source": [
    "# Import modules and look at the first five rows of the dataset\n",
    "\n",
    "import pandas as pd\n",
    "import numpy as np\n",
    "\n",
    "df = pd.read_csv(\"datasets/bank_data.csv\")\n",
    "df.head()"
   ]
  },
  {
   "attachments": {},
   "cell_type": "markdown",
   "id": "a09fe318",
   "metadata": {},
   "source": [
    "## 2. Graphical exploratory data analysis\n",
    "\n",
    "<p>Different recovery strategies are used at different thresholds. We are going to focus on level 0 and level 1 recovery.\n",
    "<p>We know that the customers in Level 1 (expected recovery amounts between \\$1001 and \\$2000) received more attention from the bank and, by definition, they had higher expected recovery amounts than the customers in Level 0 (between \\$1 and \\$1000).</p>\n",
    "<p>Here's a quick summary of the Levels and thresholds again:</p>\n",
    "<ul>\n",
    "<li>Level 0: Expected recovery amounts &gt;\\$0 and &lt;=\\$1000</li>\n",
    "<li>Level 1: Expected recovery amounts &gt;\\$1000 and &lt;=\\$2000</li>\n",
    "<li>The threshold of \\$1000 separates Level 0 from Level 1</li>\n",
    "</ul>"
   ]
  },
  {
   "attachments": {},
   "cell_type": "markdown",
   "id": "2109fb8f",
   "metadata": {},
   "source": [
    "<p> To start off, we can look at the scatter plot of the actual recovery amount(y) as a function of the expected recovery amount (x). We want to focus our attention at the range just below and just above the threshold. I.e. \\$900 <= x < \\$1100. <p> This range covers Levels 0 and 1. We want to identify whether or not we see a discontinuity (jump) around the \\$1000 threshold.</p>"
   ]
  },
  {
   "cell_type": "code",
   "execution_count": 36,
   "id": "f8c2c5dc",
   "metadata": {},
   "outputs": [
    {
     "data": {
      "image/png": "[encoded data removed]",
      "text/plain": [
       "<Figure size 864x432 with 1 Axes>"
      ]
     },
     "metadata": {
      "needs_background": "light"
     },
     "output_type": "display_data"
    }
   ],
   "source": [
    "# Scatter plot of Actual recovery amount vs. expected recovery amount to visually check for regression discontinuity\n",
    "\n",
    "from matplotlib import pyplot as plt\n",
    "%matplotlib inline\n",
    "plt.figure(figsize = (12, 6))\n",
    "plt.axvline(x = 1000, color = \"r\", label = \"threshold\") #draw line to show threshold\n",
    "plt.scatter(x=df[\"expected_recovery_amount\"], y=df[\"actual_recovery_amount\"], c=\"b\", s=2)\n",
    "plt.xlim(0, 2000)\n",
    "plt.ylim(0, 2000)\n",
    "plt.xlabel(\"Expected recovery amount\")\n",
    "plt.ylabel(\"Actual recovery amount\")\n",
    "plt.legend(loc=2)\n",
    "plt.show()"
   ]
  },
  {
   "attachments": {},
   "cell_type": "markdown",
   "id": "84d6beeb",
   "metadata": {},
   "source": [
    "No obvious discontinuity visible."
   ]
  },
  {
   "attachments": {},
   "cell_type": "markdown",
   "id": "3e8e656a",
   "metadata": {},
   "source": [
    "<p>A key question is whether there are other factors besides expected recovery amount that also varied systematically across the \\$1000 threshold. For example, does the customer age show a jump (discontinuity) at the \\$1000 threshold or does that age vary smoothly?"
   ]
  },
  {
   "cell_type": "code",
   "execution_count": 37,
   "id": "6fe83a7c",
   "metadata": {},
   "outputs": [
    {
     "data": {
      "image/png": "[encoded data removed]",
      "text/plain": [
       "<Figure size 864x432 with 1 Axes>"
      ]
     },
     "metadata": {
      "needs_background": "light"
     },
     "output_type": "display_data"
    }
   ],
   "source": [
    "# Scatter plot of age vs. expected recovery amount\n",
    "\n",
    "from matplotlib import pyplot as plt\n",
    "%matplotlib inline\n",
    "plt.figure(figsize = (12, 6))\n",
    "plt.axvline(x = 1000, color = \"r\", label = \"threshold\") #draw line to show threshold\n",
    "plt.scatter(x=df[\"expected_recovery_amount\"], y=df[\"age\"], c=\"b\", s=2)\n",
    "plt.xlim(0, 2000)\n",
    "plt.ylim(15, 60)\n",
    "plt.xlabel(\"Expected recovery amount\")\n",
    "plt.ylabel(\"Age\")\n",
    "plt.legend(loc=2)\n",
    "plt.show()"
   ]
  },
  {
   "attachments": {},
   "cell_type": "markdown",
   "id": "6223b40a",
   "metadata": {},
   "source": [
    "No discontinuity visible in customer age around the threshold."
   ]
  },
  {
   "attachments": {},
   "cell_type": "markdown",
   "id": "77114e9d",
   "metadata": {},
   "source": [
    "## 3. Statistical test:  age vs. expected recovery amount\n",
    "<p>\"Assuming that the average properties of customers just above and just below the threshold are similar, this allows estimation of the effect of the intervention at the threshold (Local Average Treatment Effect, LATE).\" <b>[3] </b> So, we want to be able to conclude that differences in the actual recovery amount are due to the higher recovery strategy and not due to some other difference in factors such as age or sex.\n",
    "<p>The scatterplot of age vs expected recovery amount did not show heterogeneity but to check this, we can use a statistical test. The Kruskal-Wallis One-Way ANOVA test can be used to determine where there is a difference in the customer age just above and just below the threshold. As it is a non-parametric test, it doesn't assume a normal distribution of the residuals. <p> We make the assumption that the distribution is identically shaped and scaled in the selected range (\\$900 - \\$1100) for both recovery groups, except for any difference in the medians.<p> The null hypothesis is that the medians of the groups are equal.<p> The alternative hypothesis is that the one population median of one group is different from the population median of the other group. <b>[4]</b><p> Our assumptions are as follows:<p>\n",
    "<ul>\n",
    "<li>Samples are random.\n",
    "<li>The two samples are mutually independent.\n",
    "<li>The measurement scale is ordinal (recovery strategy 0 & 1), and the variables are continuous.\n",
    "</ul>"
   ]
  },
  {
   "cell_type": "code",
   "execution_count": 22,
   "id": "ad2f1a49",
   "metadata": {},
   "outputs": [
    {
     "data": {
      "text/plain": [
       "KruskalResult(statistic=3.4572342749517513, pvalue=0.06297556896097407)"
      ]
     },
     "execution_count": 22,
     "metadata": {},
     "output_type": "execute_result"
    }
   ],
   "source": [
    "# Import stats module scipy\n",
    "from scipy import stats\n",
    "\n",
    "# Calculate average age in the selected range (900-1100) around the threshold\n",
    "era_900_1100 = df.loc[(df[\"expected_recovery_amount\"] < 1100) & \n",
    "                      (df[\"expected_recovery_amount\"] >= 900)]\n",
    "by_recovery_strategy = era_900_1100.groupby([\"recovery_strategy\"]) # separate the two groups\n",
    "by_recovery_strategy[\"age\"].describe().unstack()\n",
    "\n",
    "# Kruskal-Wallis test \n",
    "level_0_age = era_900_1100.loc[df[\"recovery_strategy\"] == \"Level 0 Recovery\"][\"age\"]\n",
    "level_1_age = era_900_1100.loc[df[\"recovery_strategy\"] == \"Level 1 Recovery\"][\"age\"]\n",
    "stats.kruskal(level_0_age, level_1_age) "
   ]
  },
  {
   "attachments": {},
   "cell_type": "markdown",
   "id": "7c828bff",
   "metadata": {},
   "source": [
    "The difference in the median age between the two groups of level 0 and level 1 recovery is not statistically significant (p = 0.063 > 0.05). I.e. we accept the null hypothesis and reject the alternative hypothesis."
   ]
  },
  {
   "attachments": {},
   "cell_type": "markdown",
   "id": "4e4f9e7a",
   "metadata": {},
   "source": [
    "## 4. Statistical test:  sex vs. expected recovery amount\n",
    "<p>Now, it is important to see if there is a difference in the sex of the population in our selected range (\\$900 - \\$1100).\n",
    "<p>This can be assessed statistically by developing cross-tabs as well as doing chi-square tests of the number of customers that are male vs. female.</p>\n",
    "Similarly to the above, our null hypothesis is that there is no difference in the number of females and males across the two recovery strategy levels and the alternative hypothesis is that there is a difference.\n",
    "<p> \"A crosstab is a table showing the relationship between two or more variables. Where the table only shows the relationship between two categorical variables, a crosstab is also known as a contingency table.\" <b> [5] </b>"
   ]
  },
  {
   "cell_type": "code",
   "execution_count": 33,
   "id": "f17cca51",
   "metadata": {},
   "outputs": [
    {
     "name": "stdout",
     "output_type": "stream",
     "text": [
      "sex                Female  Male\n",
      "recovery_strategy              \n",
      "Level 0 Recovery       32    57\n",
      "Level 1 Recovery       39    55\n",
      "p_val =  0.5377947810444592\n"
     ]
    }
   ],
   "source": [
    "# Number of customers in each recovery strategy within our selected range (900-1100 dollars)\n",
    "# pandas.crosstab(index, columns, values=None, rownames=None, colnames=None, aggfunc=None, \n",
    "#                 margins=False, margins_name='All', dropna=True, normalize=False)\n",
    "#\n",
    "\n",
    "crosstab = pd.crosstab(df.loc[(df[\"expected_recovery_amount\"] < 1100) & \n",
    "                              (df[\"expected_recovery_amount\"] >= 900)][\"recovery_strategy\"], \n",
    "                       df[\"sex\"]) # dropna=True - do not include columns whose entries are all NaN.\n",
    " \n",
    "print(crosstab)\n",
    "\n",
    "# Chi-square test\n",
    "chi2_stat, p_val, dof, ex = stats.chi2_contingency(crosstab)\n",
    "print(\"p_val = \", p_val)"
   ]
  },
  {
   "attachments": {},
   "cell_type": "markdown",
   "id": "5cbb9d9f",
   "metadata": {},
   "source": [
    "There is no statistically significant difference between the number of females and males in the population on either side of our threshold within the range of (\\\\$900 - \\\\$1100) (p = 0.538 > 0.05)."
   ]
  },
  {
   "attachments": {},
   "cell_type": "markdown",
   "id": "d2f05b5b",
   "metadata": {},
   "source": [
    "## 5. Graphical exploratory data analysis of actual vs expected recovery amount"
   ]
  },
  {
   "attachments": {},
   "cell_type": "markdown",
   "id": "ce7001a4",
   "metadata": {},
   "source": [
    "We can look at our selected range (\\\\$900 - \\\\$1100) around the threshold more closely to see if we can see any discontinuity when zooming in as in section 2 we did not see any visible discontinuity."
   ]
  },
  {
   "cell_type": "code",
   "execution_count": 39,
   "id": "6a9ec834",
   "metadata": {},
   "outputs": [
    {
     "name": "stderr",
     "output_type": "stream",
     "text": [
      "No handles with labels found to put in legend.\n"
     ]
    },
    {
     "data": {
      "image/png": "[encoded data removed]",
      "text/plain": [
       "<Figure size 864x432 with 1 Axes>"
      ]
     },
     "metadata": {
      "needs_background": "light"
     },
     "output_type": "display_data"
    }
   ],
   "source": [
    "plt.figure(figsize = (12, 6))\n",
    "plt.scatter(x=df[\"expected_recovery_amount\"], y=df[\"actual_recovery_amount\"], c=\"r\", s=2)\n",
    "plt.xlim(900, 1100)\n",
    "plt.ylim(0, 2000)\n",
    "plt.xlabel(\"Expected recovery amount\")\n",
    "plt.ylabel(\"Actual recovery amount\")\n",
    "plt.legend(loc=2)\n",
    "plt.show()"
   ]
  },
  {
   "attachments": {},
   "cell_type": "markdown",
   "id": "0ea506c5",
   "metadata": {},
   "source": [
    "Still no obvious discontinuity visible."
   ]
  },
  {
   "attachments": {},
   "cell_type": "markdown",
   "id": "b41a4b30",
   "metadata": {},
   "source": [
    "## 6. Statistical analysis:  recovery amount\n",
    "<p>As we did with age, we can perform statistical tests to see if the actual recovery amount has a discontinuity above the \\$1000 threshold. We are going to do this for two different windows of the expected recovery amount \\$900 to \\$1100 and for a narrow range of \\$950 to \\$1050 to see if our results are consistent.</p>\n",
    "<p>Again, we will use the Kruskal-Wallis test.</p>\n",
    "<p>\n",
    "1. We will first compute the average actual recovery amount for those customers just below and just above the threshold using a range from \\$900 to \\$1100.  <p> \n",
    "2. Then we will perform a Kruskal-Wallis test to see if the actual recovery amounts are different just above and just below the threshold. <p>\n",
    "3. Once we have done these, we will repeat steps 1. and 2. for a smaller window of \\$950 to \\$1050.</p>"
   ]
  },
  {
   "cell_type": "code",
   "execution_count": 79,
   "id": "79064dad",
   "metadata": {},
   "outputs": [
    {
     "data": {
      "text/plain": [
       "KruskalResult(statistic=65.37966302528878, pvalue=6.177308752803109e-16)"
      ]
     },
     "execution_count": 79,
     "metadata": {},
     "output_type": "execute_result"
    }
   ],
   "source": [
    "# Create column from multiindex\n",
    "by_recovery_strategy[\"actual_recovery_amount\"].describe().unstack()\n",
    "\n",
    "# Calculate average actual recovery amount just below and above the threshold\n",
    "# and erform Kruskal-Wallis test\n",
    "level_0_actual = era_900_1100.loc[df[\"recovery_strategy\"]==\"Level 0 Recovery\"][\"actual_recovery_amount\"]\n",
    "level_1_actual = era_900_1100.loc[df[\"recovery_strategy\"]==\"Level 1 Recovery\"][\"actual_recovery_amount\"]\n",
    "stats.kruskal(level_0_actual, level_1_actual) "
   ]
  },
  {
   "cell_type": "code",
   "execution_count": 41,
   "id": "511f9331",
   "metadata": {},
   "outputs": [
    {
     "data": {
      "text/plain": [
       "KruskalResult(statistic=30.246000000000038, pvalue=3.80575314300276e-08)"
      ]
     },
     "execution_count": 41,
     "metadata": {},
     "output_type": "execute_result"
    }
   ],
   "source": [
    "# Repeat for a smaller range of $950 to $1050\n",
    "era_950_1050 = df.loc[(df[\"expected_recovery_amount\"] < 1050) & \n",
    "                      (df[\"expected_recovery_amount\"] >= 950)]\n",
    "\n",
    "level_0_actual = era_950_1050.loc[df[\"recovery_strategy\"]==\"Level 0 Recovery\"][\"actual_recovery_amount\"]\n",
    "level_1_actual = era_950_1050.loc[df[\"recovery_strategy\"]==\"Level 1 Recovery\"][\"actual_recovery_amount\"]\n",
    "stats.kruskal(level_0_actual, level_1_actual)"
   ]
  },
  {
   "attachments": {},
   "cell_type": "markdown",
   "id": "f81f9636",
   "metadata": {},
   "source": [
    "For both ranges of \\\\$900 - \\\\$1100 and \\\\$950 - \\\\$1050, the difference in the median actual recovery amount between the two groups of level 0 and level 1 recovery is statistically significant (p-values < 0.001, almost 0). I.e. we accept the alternative hypothesis and reject the null hypothesis."
   ]
  },
  {
   "attachments": {},
   "cell_type": "markdown",
   "id": "a457259c",
   "metadata": {},
   "source": [
    "## 7. Regression modeling: no threshold\n",
    "We now want to take a regression-based approach to estimate the program impact at the $1000 threshold using data that is just above and below the threshold.\n",
    "\n",
    "We will build two models. The first model does not have a threshold while the second will include a threshold.\n",
    "\n",
    "The first model predicts the actual recovery amount (dependent variable, y) as a function of the expected recovery amount (independent variable, x). We expect that there will be a strong positive relationship between these two variables.\n",
    "\n",
    "We will examine the adjusted R-squared to see the percent of variance explained by the model. In this model, we are not representing the threshold but simply seeing how the variable used for assigning the customers (expected recovery amount) relates to the outcome variable (actual recovery amount)."
   ]
  },
  {
   "cell_type": "code",
   "execution_count": 64,
   "id": "6f723f71",
   "metadata": {},
   "outputs": [
    {
     "name": "stderr",
     "output_type": "stream",
     "text": [
      "/opt/anaconda3/lib/python3.9/site-packages/statsmodels/tsa/tsatools.py:142: FutureWarning: In a future version of pandas all arguments of concat except for the argument 'objs' will be keyword-only\n",
      "  x = pd.concat(x[::order], 1)\n"
     ]
    },
    {
     "data": {
      "text/html": [
       "<table class=\"simpletable\">\n",
       "<caption>OLS Regression Results</caption>\n",
       "<tr>\n",
       "  <th>Dep. Variable:</th>    <td>actual_recovery_amount</td> <th>  R-squared:         </th> <td>   0.261</td>\n",
       "</tr>\n",
       "<tr>\n",
       "  <th>Model:</th>                      <td>OLS</td>          <th>  Adj. R-squared:    </th> <td>   0.256</td>\n",
       "</tr>\n",
       "<tr>\n",
       "  <th>Method:</th>                <td>Least Squares</td>     <th>  F-statistic:       </th> <td>   63.78</td>\n",
       "</tr>\n",
       "<tr>\n",
       "  <th>Date:</th>                <td>Wed, 01 Mar 2023</td>    <th>  Prob (F-statistic):</th> <td>1.56e-13</td>\n",
       "</tr>\n",
       "<tr>\n",
       "  <th>Time:</th>                    <td>18:01:48</td>        <th>  Log-Likelihood:    </th> <td> -1278.9</td>\n",
       "</tr>\n",
       "<tr>\n",
       "  <th>No. Observations:</th>         <td>   183</td>         <th>  AIC:               </th> <td>   2562.</td>\n",
       "</tr>\n",
       "<tr>\n",
       "  <th>Df Residuals:</th>             <td>   181</td>         <th>  BIC:               </th> <td>   2568.</td>\n",
       "</tr>\n",
       "<tr>\n",
       "  <th>Df Model:</th>                 <td>     1</td>         <th>                     </th>     <td> </td>   \n",
       "</tr>\n",
       "<tr>\n",
       "  <th>Covariance Type:</th>         <td>nonrobust</td>       <th>                     </th>     <td> </td>   \n",
       "</tr>\n",
       "</table>\n",
       "<table class=\"simpletable\">\n",
       "<tr>\n",
       "              <td></td>                <th>coef</th>     <th>std err</th>      <th>t</th>      <th>P>|t|</th>  <th>[0.025</th>    <th>0.975]</th>  \n",
       "</tr>\n",
       "<tr>\n",
       "  <th>const</th>                    <td>-1978.7597</td> <td>  347.741</td> <td>   -5.690</td> <td> 0.000</td> <td>-2664.907</td> <td>-1292.612</td>\n",
       "</tr>\n",
       "<tr>\n",
       "  <th>expected_recovery_amount</th> <td>    2.7577</td> <td>    0.345</td> <td>    7.986</td> <td> 0.000</td> <td>    2.076</td> <td>    3.439</td>\n",
       "</tr>\n",
       "</table>\n",
       "<table class=\"simpletable\">\n",
       "<tr>\n",
       "  <th>Omnibus:</th>       <td>64.493</td> <th>  Durbin-Watson:     </th> <td>   1.777</td>\n",
       "</tr>\n",
       "<tr>\n",
       "  <th>Prob(Omnibus):</th> <td> 0.000</td> <th>  Jarque-Bera (JB):  </th> <td> 185.818</td>\n",
       "</tr>\n",
       "<tr>\n",
       "  <th>Skew:</th>          <td> 1.463</td> <th>  Prob(JB):          </th> <td>4.47e-41</td>\n",
       "</tr>\n",
       "<tr>\n",
       "  <th>Kurtosis:</th>      <td> 6.977</td> <th>  Cond. No.          </th> <td>1.80e+04</td>\n",
       "</tr>\n",
       "</table><br/><br/>Notes:<br/>[1] Standard Errors assume that the covariance matrix of the errors is correctly specified.<br/>[2] The condition number is large, 1.8e+04. This might indicate that there are<br/>strong multicollinearity or other numerical problems."
      ],
      "text/plain": [
       "<class 'statsmodels.iolib.summary.Summary'>\n",
       "\"\"\"\n",
       "                              OLS Regression Results                              \n",
       "==================================================================================\n",
       "Dep. Variable:     actual_recovery_amount   R-squared:                       0.261\n",
       "Model:                                OLS   Adj. R-squared:                  0.256\n",
       "Method:                     Least Squares   F-statistic:                     63.78\n",
       "Date:                    Wed, 01 Mar 2023   Prob (F-statistic):           1.56e-13\n",
       "Time:                            18:01:48   Log-Likelihood:                -1278.9\n",
       "No. Observations:                     183   AIC:                             2562.\n",
       "Df Residuals:                         181   BIC:                             2568.\n",
       "Df Model:                               1                                         \n",
       "Covariance Type:                nonrobust                                         \n",
       "============================================================================================\n",
       "                               coef    std err          t      P>|t|      [0.025      0.975]\n",
       "--------------------------------------------------------------------------------------------\n",
       "const                    -1978.7597    347.741     -5.690      0.000   -2664.907   -1292.612\n",
       "expected_recovery_amount     2.7577      0.345      7.986      0.000       2.076       3.439\n",
       "==============================================================================\n",
       "Omnibus:                       64.493   Durbin-Watson:                   1.777\n",
       "Prob(Omnibus):                  0.000   Jarque-Bera (JB):              185.818\n",
       "Skew:                           1.463   Prob(JB):                     4.47e-41\n",
       "Kurtosis:                       6.977   Cond. No.                     1.80e+04\n",
       "==============================================================================\n",
       "\n",
       "Notes:\n",
       "[1] Standard Errors assume that the covariance matrix of the errors is correctly specified.\n",
       "[2] The condition number is large, 1.8e+04. This might indicate that there are\n",
       "strong multicollinearity or other numerical problems.\n",
       "\"\"\""
      ]
     },
     "execution_count": 64,
     "metadata": {},
     "output_type": "execute_result"
    }
   ],
   "source": [
    "# Import statsmodels for analysis\n",
    "import statsmodels.api as sm\n",
    "\n",
    "# Define X and y\n",
    "X = era_900_1100[\"expected_recovery_amount\"]\n",
    "y = era_900_1100[\"actual_recovery_amount\"]\n",
    "X = sm.add_constant(X)\n",
    "\n",
    "# Linear regression model\n",
    "model = sm.OLS(y, X).fit()\n",
    "predictions = model.predict(X)\n",
    "\n",
    "# Print out the model summary statistics\n",
    "model.summary()"
   ]
  },
  {
   "attachments": {},
   "cell_type": "markdown",
   "id": "5cb5333f",
   "metadata": {},
   "source": [
    "Assumptions of linear regression:\n",
    "<ul>\n",
    "<li>Linear relationship between the dependent and the independent variable. This was checked visually in the scatterplot in section 2 and section 5.\n",
    "<li>There should be independence of observations. As the Durbin-Watson statistic is close to 2 (1.777), this assumption is met.\n",
    "<li>The residual data needs to show homoscedasticity. This was checked using the Omnibus test above, however, the value we were looking for was supposed to be a value close to zero. As this was not the case, I will double-check this the Bruesch-Pagan's test. <b> [6] \n",
    "</ul>"
   ]
  },
  {
   "cell_type": "code",
   "execution_count": 63,
   "id": "28e6a8b5",
   "metadata": {},
   "outputs": [
    {
     "data": {
      "text/plain": [
       "[('Lagrange multiplier statistic', 1.6210279127530782),\n",
       " ('p_value', 0.20294851937408015),\n",
       " ('f_value', 1.6176409471940962),\n",
       " ('f p_value', 0.20505276420257176)]"
      ]
     },
     "execution_count": 63,
     "metadata": {},
     "output_type": "execute_result"
    }
   ],
   "source": [
    "import statsmodels.formula.api as smf\n",
    "import statsmodels.stats.api as sms\n",
    "from statsmodels.compat import lzip\n",
    "import statsmodels\n",
    "\n",
    "name = [\"Lagrange multiplier statistic\", \"p_value\", \n",
    "        \"f_value\", \"f p_value\"]\n",
    "test = sms.het_breuschpagan(model.resid, model.model.exog)\n",
    "lzip(name, test)"
   ]
  },
  {
   "attachments": {},
   "cell_type": "markdown",
   "id": "2db4f667",
   "metadata": {},
   "source": [
    "We see that the Bruesch-Pagan's test is statistically significant at p = 1.274e-8, p < 0.001.<p> Our null hypothesis is that homoscedasticity is present which we reject and we accept the alternative hypothesis, meaning heterogeneity of the residual data. <p> In order to account for the heteroscedasticity in the data, one has to select a heteroscedasticity consistent covariance matrix (HCCM) and pass it in the “cov_type=” argument apart of the .fit() method. What is HCCM? Here is a nice read if interested more on this. There are a few HCCMs to choose from:\n",
    "<ul>\n",
    "<li>HC0, not good on sample size ≤ 250\n",
    "<li>HC1, not good on sample size ≤ 250\n",
    "<li>HC2, good on sample size ≤ 250\n",
    "<li>HC3, which out performs HC0, HC1, and HC2 when sample size ≤ 250</ul>\n",
    "Little difference in performance when sample is ≥ 500 <b> [6] </b> <p> We will use HC3 in our model. "
   ]
  },
  {
   "cell_type": "code",
   "execution_count": 76,
   "id": "988c8b80",
   "metadata": {},
   "outputs": [
    {
     "name": "stderr",
     "output_type": "stream",
     "text": [
      "/opt/anaconda3/lib/python3.9/site-packages/statsmodels/tsa/tsatools.py:142: FutureWarning: In a future version of pandas all arguments of concat except for the argument 'objs' will be keyword-only\n",
      "  x = pd.concat(x[::order], 1)\n"
     ]
    },
    {
     "data": {
      "text/html": [
       "<table class=\"simpletable\">\n",
       "<caption>OLS Regression Results</caption>\n",
       "<tr>\n",
       "  <th>Dep. Variable:</th>    <td>actual_recovery_amount</td> <th>  R-squared:         </th> <td>   0.261</td>\n",
       "</tr>\n",
       "<tr>\n",
       "  <th>Model:</th>                      <td>OLS</td>          <th>  Adj. R-squared:    </th> <td>   0.256</td>\n",
       "</tr>\n",
       "<tr>\n",
       "  <th>Method:</th>                <td>Least Squares</td>     <th>  F-statistic:       </th> <td>   70.52</td>\n",
       "</tr>\n",
       "<tr>\n",
       "  <th>Date:</th>                <td>Wed, 01 Mar 2023</td>    <th>  Prob (F-statistic):</th> <td>1.29e-14</td>\n",
       "</tr>\n",
       "<tr>\n",
       "  <th>Time:</th>                    <td>18:21:09</td>        <th>  Log-Likelihood:    </th> <td> -1278.9</td>\n",
       "</tr>\n",
       "<tr>\n",
       "  <th>No. Observations:</th>         <td>   183</td>         <th>  AIC:               </th> <td>   2562.</td>\n",
       "</tr>\n",
       "<tr>\n",
       "  <th>Df Residuals:</th>             <td>   181</td>         <th>  BIC:               </th> <td>   2568.</td>\n",
       "</tr>\n",
       "<tr>\n",
       "  <th>Df Model:</th>                 <td>     1</td>         <th>                     </th>     <td> </td>   \n",
       "</tr>\n",
       "<tr>\n",
       "  <th>Covariance Type:</th>            <td>HC3</td>          <th>                     </th>     <td> </td>   \n",
       "</tr>\n",
       "</table>\n",
       "<table class=\"simpletable\">\n",
       "<tr>\n",
       "              <td></td>                <th>coef</th>     <th>std err</th>      <th>z</th>      <th>P>|z|</th>  <th>[0.025</th>    <th>0.975]</th>  \n",
       "</tr>\n",
       "<tr>\n",
       "  <th>const</th>                    <td>-1978.7597</td> <td>  325.892</td> <td>   -6.072</td> <td> 0.000</td> <td>-2617.497</td> <td>-1340.022</td>\n",
       "</tr>\n",
       "<tr>\n",
       "  <th>expected_recovery_amount</th> <td>    2.7577</td> <td>    0.328</td> <td>    8.398</td> <td> 0.000</td> <td>    2.114</td> <td>    3.401</td>\n",
       "</tr>\n",
       "</table>\n",
       "<table class=\"simpletable\">\n",
       "<tr>\n",
       "  <th>Omnibus:</th>       <td>64.493</td> <th>  Durbin-Watson:     </th> <td>   1.777</td>\n",
       "</tr>\n",
       "<tr>\n",
       "  <th>Prob(Omnibus):</th> <td> 0.000</td> <th>  Jarque-Bera (JB):  </th> <td> 185.818</td>\n",
       "</tr>\n",
       "<tr>\n",
       "  <th>Skew:</th>          <td> 1.463</td> <th>  Prob(JB):          </th> <td>4.47e-41</td>\n",
       "</tr>\n",
       "<tr>\n",
       "  <th>Kurtosis:</th>      <td> 6.977</td> <th>  Cond. No.          </th> <td>1.80e+04</td>\n",
       "</tr>\n",
       "</table><br/><br/>Notes:<br/>[1] Standard Errors are heteroscedasticity robust (HC3)<br/>[2] The condition number is large, 1.8e+04. This might indicate that there are<br/>strong multicollinearity or other numerical problems."
      ],
      "text/plain": [
       "<class 'statsmodels.iolib.summary.Summary'>\n",
       "\"\"\"\n",
       "                              OLS Regression Results                              \n",
       "==================================================================================\n",
       "Dep. Variable:     actual_recovery_amount   R-squared:                       0.261\n",
       "Model:                                OLS   Adj. R-squared:                  0.256\n",
       "Method:                     Least Squares   F-statistic:                     70.52\n",
       "Date:                    Wed, 01 Mar 2023   Prob (F-statistic):           1.29e-14\n",
       "Time:                            18:21:09   Log-Likelihood:                -1278.9\n",
       "No. Observations:                     183   AIC:                             2562.\n",
       "Df Residuals:                         181   BIC:                             2568.\n",
       "Df Model:                               1                                         \n",
       "Covariance Type:                      HC3                                         \n",
       "============================================================================================\n",
       "                               coef    std err          z      P>|z|      [0.025      0.975]\n",
       "--------------------------------------------------------------------------------------------\n",
       "const                    -1978.7597    325.892     -6.072      0.000   -2617.497   -1340.022\n",
       "expected_recovery_amount     2.7577      0.328      8.398      0.000       2.114       3.401\n",
       "==============================================================================\n",
       "Omnibus:                       64.493   Durbin-Watson:                   1.777\n",
       "Prob(Omnibus):                  0.000   Jarque-Bera (JB):              185.818\n",
       "Skew:                           1.463   Prob(JB):                     4.47e-41\n",
       "Kurtosis:                       6.977   Cond. No.                     1.80e+04\n",
       "==============================================================================\n",
       "\n",
       "Notes:\n",
       "[1] Standard Errors are heteroscedasticity robust (HC3)\n",
       "[2] The condition number is large, 1.8e+04. This might indicate that there are\n",
       "strong multicollinearity or other numerical problems.\n",
       "\"\"\""
      ]
     },
     "execution_count": 76,
     "metadata": {},
     "output_type": "execute_result"
    }
   ],
   "source": [
    "# Define X and y\n",
    "X = era_900_1100[\"expected_recovery_amount\"]\n",
    "y = era_900_1100[\"actual_recovery_amount\"]\n",
    "X = sm.add_constant(X)\n",
    "\n",
    "# Linear regression model\n",
    "model = sm.OLS(y, X).fit(cov_type=\"HC3\")\n",
    "predictions = model.predict(X)\n",
    "\n",
    "# Print out the model summary statistics\n",
    "model.summary()"
   ]
  },
  {
   "attachments": {},
   "cell_type": "markdown",
   "id": "88ee2fbb",
   "metadata": {},
   "source": [
    "## 8. Regression modeling: adding true threshold\n",
    "<p>Now we create the second model which adds an indicator of the true threshold to the model (in this case at \\$1000).  </p>\n",
    "<p>We will create an indicator variable (either a 0 or a 1) that represents whether or not the expected recovery amount was greater than \\$1000. When we add the true threshold to the model, the regression coefficient for the true threshold represents the additional amount recovered due to the higher recovery strategy.  That is to say, the regression coefficient for the true threshold measures the size of the discontinuity  for customers just above and just below the threshold (aka the Local Average Treatment Effect, LATE).</p>\n",
    "<p>If the higher recovery strategy helped recovery more money, then the regression coefficient of the true threshold will be greater than zero.  If the higher recovery strategy did not help recover more money, then the regression coefficient will not be statistically significant.</p>"
   ]
  },
  {
   "cell_type": "code",
   "execution_count": 80,
   "id": "aadf5bf9",
   "metadata": {},
   "outputs": [
    {
     "name": "stderr",
     "output_type": "stream",
     "text": [
      "/opt/anaconda3/lib/python3.9/site-packages/statsmodels/tsa/tsatools.py:142: FutureWarning: In a future version of pandas all arguments of concat except for the argument 'objs' will be keyword-only\n",
      "  x = pd.concat(x[::order], 1)\n"
     ]
    },
    {
     "data": {
      "text/html": [
       "<table class=\"simpletable\">\n",
       "<caption>OLS Regression Results</caption>\n",
       "<tr>\n",
       "  <th>Dep. Variable:</th>    <td>actual_recovery_amount</td> <th>  R-squared:         </th> <td>   0.314</td>\n",
       "</tr>\n",
       "<tr>\n",
       "  <th>Model:</th>                      <td>OLS</td>          <th>  Adj. R-squared:    </th> <td>   0.307</td>\n",
       "</tr>\n",
       "<tr>\n",
       "  <th>Method:</th>                <td>Least Squares</td>     <th>  F-statistic:       </th> <td>   41.22</td>\n",
       "</tr>\n",
       "<tr>\n",
       "  <th>Date:</th>                <td>Wed, 01 Mar 2023</td>    <th>  Prob (F-statistic):</th> <td>1.83e-15</td>\n",
       "</tr>\n",
       "<tr>\n",
       "  <th>Time:</th>                    <td>18:30:05</td>        <th>  Log-Likelihood:    </th> <td> -1272.0</td>\n",
       "</tr>\n",
       "<tr>\n",
       "  <th>No. Observations:</th>         <td>   183</td>         <th>  AIC:               </th> <td>   2550.</td>\n",
       "</tr>\n",
       "<tr>\n",
       "  <th>Df Residuals:</th>             <td>   180</td>         <th>  BIC:               </th> <td>   2560.</td>\n",
       "</tr>\n",
       "<tr>\n",
       "  <th>Df Model:</th>                 <td>     2</td>         <th>                     </th>     <td> </td>   \n",
       "</tr>\n",
       "<tr>\n",
       "  <th>Covariance Type:</th>         <td>nonrobust</td>       <th>                     </th>     <td> </td>   \n",
       "</tr>\n",
       "</table>\n",
       "<table class=\"simpletable\">\n",
       "<tr>\n",
       "              <td></td>                <th>coef</th>     <th>std err</th>      <th>t</th>      <th>P>|t|</th>  <th>[0.025</th>    <th>0.975]</th>  \n",
       "</tr>\n",
       "<tr>\n",
       "  <th>const</th>                    <td>    3.3440</td> <td>  626.274</td> <td>    0.005</td> <td> 0.996</td> <td>-1232.440</td> <td> 1239.128</td>\n",
       "</tr>\n",
       "<tr>\n",
       "  <th>expected_recovery_amount</th> <td>    0.6430</td> <td>    0.655</td> <td>    0.981</td> <td> 0.328</td> <td>   -0.650</td> <td>    1.936</td>\n",
       "</tr>\n",
       "<tr>\n",
       "  <th>indicator_1000</th>           <td>  277.6344</td> <td>   74.043</td> <td>    3.750</td> <td> 0.000</td> <td>  131.530</td> <td>  423.739</td>\n",
       "</tr>\n",
       "</table>\n",
       "<table class=\"simpletable\">\n",
       "<tr>\n",
       "  <th>Omnibus:</th>       <td>65.977</td> <th>  Durbin-Watson:     </th> <td>   1.906</td>\n",
       "</tr>\n",
       "<tr>\n",
       "  <th>Prob(Omnibus):</th> <td> 0.000</td> <th>  Jarque-Bera (JB):  </th> <td> 186.537</td>\n",
       "</tr>\n",
       "<tr>\n",
       "  <th>Skew:</th>          <td> 1.510</td> <th>  Prob(JB):          </th> <td>3.12e-41</td>\n",
       "</tr>\n",
       "<tr>\n",
       "  <th>Kurtosis:</th>      <td> 6.917</td> <th>  Cond. No.          </th> <td>3.37e+04</td>\n",
       "</tr>\n",
       "</table><br/><br/>Notes:<br/>[1] Standard Errors assume that the covariance matrix of the errors is correctly specified.<br/>[2] The condition number is large, 3.37e+04. This might indicate that there are<br/>strong multicollinearity or other numerical problems."
      ],
      "text/plain": [
       "<class 'statsmodels.iolib.summary.Summary'>\n",
       "\"\"\"\n",
       "                              OLS Regression Results                              \n",
       "==================================================================================\n",
       "Dep. Variable:     actual_recovery_amount   R-squared:                       0.314\n",
       "Model:                                OLS   Adj. R-squared:                  0.307\n",
       "Method:                     Least Squares   F-statistic:                     41.22\n",
       "Date:                    Wed, 01 Mar 2023   Prob (F-statistic):           1.83e-15\n",
       "Time:                            18:30:05   Log-Likelihood:                -1272.0\n",
       "No. Observations:                     183   AIC:                             2550.\n",
       "Df Residuals:                         180   BIC:                             2560.\n",
       "Df Model:                               2                                         \n",
       "Covariance Type:                nonrobust                                         \n",
       "============================================================================================\n",
       "                               coef    std err          t      P>|t|      [0.025      0.975]\n",
       "--------------------------------------------------------------------------------------------\n",
       "const                        3.3440    626.274      0.005      0.996   -1232.440    1239.128\n",
       "expected_recovery_amount     0.6430      0.655      0.981      0.328      -0.650       1.936\n",
       "indicator_1000             277.6344     74.043      3.750      0.000     131.530     423.739\n",
       "==============================================================================\n",
       "Omnibus:                       65.977   Durbin-Watson:                   1.906\n",
       "Prob(Omnibus):                  0.000   Jarque-Bera (JB):              186.537\n",
       "Skew:                           1.510   Prob(JB):                     3.12e-41\n",
       "Kurtosis:                       6.917   Cond. No.                     3.37e+04\n",
       "==============================================================================\n",
       "\n",
       "Notes:\n",
       "[1] Standard Errors assume that the covariance matrix of the errors is correctly specified.\n",
       "[2] The condition number is large, 3.37e+04. This might indicate that there are\n",
       "strong multicollinearity or other numerical problems.\n",
       "\"\"\""
      ]
     },
     "execution_count": 80,
     "metadata": {},
     "output_type": "execute_result"
    }
   ],
   "source": [
    "# Create indicator (0 or 1) for expected recovery amount >= $1000\n",
    "# numpy.where(condition, [x, y, ]/)\n",
    "#   return elements chosen from x or y depending on condition.\n",
    "\n",
    "df[\"indicator_1000\"] = np.where(df[\"expected_recovery_amount\"] < 1000, 0, 1)\n",
    "\n",
    "# Select range\n",
    "era_900_1100 = df.loc[(df[\"expected_recovery_amount\"] < 1100) & \n",
    "                      (df[\"expected_recovery_amount\"] >= 900)]\n",
    "\n",
    "# Define X and y\n",
    "X = era_900_1100[[\"expected_recovery_amount\", \"indicator_1000\"]]\n",
    "y = era_900_1100[\"actual_recovery_amount\"]\n",
    "X = sm.add_constant(X)\n",
    "\n",
    "# Build linear regression model\n",
    "model = sm.OLS(y,X).fit()\n",
    "\n",
    "# Print the model summary\n",
    "model.summary()"
   ]
  },
  {
   "attachments": {},
   "cell_type": "markdown",
   "id": "577d222e",
   "metadata": {},
   "source": [
    "Here we are still seeing that the Omnibus test result is not close to zero so the same covariance matrix will be passed to our model, HC3."
   ]
  },
  {
   "cell_type": "code",
   "execution_count": 81,
   "id": "a857decc",
   "metadata": {},
   "outputs": [
    {
     "name": "stderr",
     "output_type": "stream",
     "text": [
      "/opt/anaconda3/lib/python3.9/site-packages/statsmodels/tsa/tsatools.py:142: FutureWarning: In a future version of pandas all arguments of concat except for the argument 'objs' will be keyword-only\n",
      "  x = pd.concat(x[::order], 1)\n"
     ]
    },
    {
     "data": {
      "text/html": [
       "<table class=\"simpletable\">\n",
       "<caption>OLS Regression Results</caption>\n",
       "<tr>\n",
       "  <th>Dep. Variable:</th>    <td>actual_recovery_amount</td> <th>  R-squared:         </th> <td>   0.314</td>\n",
       "</tr>\n",
       "<tr>\n",
       "  <th>Model:</th>                      <td>OLS</td>          <th>  Adj. R-squared:    </th> <td>   0.307</td>\n",
       "</tr>\n",
       "<tr>\n",
       "  <th>Method:</th>                <td>Least Squares</td>     <th>  F-statistic:       </th> <td>   43.07</td>\n",
       "</tr>\n",
       "<tr>\n",
       "  <th>Date:</th>                <td>Wed, 01 Mar 2023</td>    <th>  Prob (F-statistic):</th> <td>5.19e-16</td>\n",
       "</tr>\n",
       "<tr>\n",
       "  <th>Time:</th>                    <td>18:30:20</td>        <th>  Log-Likelihood:    </th> <td> -1272.0</td>\n",
       "</tr>\n",
       "<tr>\n",
       "  <th>No. Observations:</th>         <td>   183</td>         <th>  AIC:               </th> <td>   2550.</td>\n",
       "</tr>\n",
       "<tr>\n",
       "  <th>Df Residuals:</th>             <td>   180</td>         <th>  BIC:               </th> <td>   2560.</td>\n",
       "</tr>\n",
       "<tr>\n",
       "  <th>Df Model:</th>                 <td>     2</td>         <th>                     </th>     <td> </td>   \n",
       "</tr>\n",
       "<tr>\n",
       "  <th>Covariance Type:</th>            <td>HC3</td>          <th>                     </th>     <td> </td>   \n",
       "</tr>\n",
       "</table>\n",
       "<table class=\"simpletable\">\n",
       "<tr>\n",
       "              <td></td>                <th>coef</th>     <th>std err</th>      <th>z</th>      <th>P>|z|</th>  <th>[0.025</th>    <th>0.975]</th>  \n",
       "</tr>\n",
       "<tr>\n",
       "  <th>const</th>                    <td>    3.3440</td> <td>  751.446</td> <td>    0.004</td> <td> 0.996</td> <td>-1469.464</td> <td> 1476.152</td>\n",
       "</tr>\n",
       "<tr>\n",
       "  <th>expected_recovery_amount</th> <td>    0.6430</td> <td>    0.790</td> <td>    0.814</td> <td> 0.416</td> <td>   -0.905</td> <td>    2.191</td>\n",
       "</tr>\n",
       "<tr>\n",
       "  <th>indicator_1000</th>           <td>  277.6344</td> <td>   90.042</td> <td>    3.083</td> <td> 0.002</td> <td>  101.155</td> <td>  454.113</td>\n",
       "</tr>\n",
       "</table>\n",
       "<table class=\"simpletable\">\n",
       "<tr>\n",
       "  <th>Omnibus:</th>       <td>65.977</td> <th>  Durbin-Watson:     </th> <td>   1.906</td>\n",
       "</tr>\n",
       "<tr>\n",
       "  <th>Prob(Omnibus):</th> <td> 0.000</td> <th>  Jarque-Bera (JB):  </th> <td> 186.537</td>\n",
       "</tr>\n",
       "<tr>\n",
       "  <th>Skew:</th>          <td> 1.510</td> <th>  Prob(JB):          </th> <td>3.12e-41</td>\n",
       "</tr>\n",
       "<tr>\n",
       "  <th>Kurtosis:</th>      <td> 6.917</td> <th>  Cond. No.          </th> <td>3.37e+04</td>\n",
       "</tr>\n",
       "</table><br/><br/>Notes:<br/>[1] Standard Errors are heteroscedasticity robust (HC3)<br/>[2] The condition number is large, 3.37e+04. This might indicate that there are<br/>strong multicollinearity or other numerical problems."
      ],
      "text/plain": [
       "<class 'statsmodels.iolib.summary.Summary'>\n",
       "\"\"\"\n",
       "                              OLS Regression Results                              \n",
       "==================================================================================\n",
       "Dep. Variable:     actual_recovery_amount   R-squared:                       0.314\n",
       "Model:                                OLS   Adj. R-squared:                  0.307\n",
       "Method:                     Least Squares   F-statistic:                     43.07\n",
       "Date:                    Wed, 01 Mar 2023   Prob (F-statistic):           5.19e-16\n",
       "Time:                            18:30:20   Log-Likelihood:                -1272.0\n",
       "No. Observations:                     183   AIC:                             2550.\n",
       "Df Residuals:                         180   BIC:                             2560.\n",
       "Df Model:                               2                                         \n",
       "Covariance Type:                      HC3                                         \n",
       "============================================================================================\n",
       "                               coef    std err          z      P>|z|      [0.025      0.975]\n",
       "--------------------------------------------------------------------------------------------\n",
       "const                        3.3440    751.446      0.004      0.996   -1469.464    1476.152\n",
       "expected_recovery_amount     0.6430      0.790      0.814      0.416      -0.905       2.191\n",
       "indicator_1000             277.6344     90.042      3.083      0.002     101.155     454.113\n",
       "==============================================================================\n",
       "Omnibus:                       65.977   Durbin-Watson:                   1.906\n",
       "Prob(Omnibus):                  0.000   Jarque-Bera (JB):              186.537\n",
       "Skew:                           1.510   Prob(JB):                     3.12e-41\n",
       "Kurtosis:                       6.917   Cond. No.                     3.37e+04\n",
       "==============================================================================\n",
       "\n",
       "Notes:\n",
       "[1] Standard Errors are heteroscedasticity robust (HC3)\n",
       "[2] The condition number is large, 3.37e+04. This might indicate that there are\n",
       "strong multicollinearity or other numerical problems.\n",
       "\"\"\""
      ]
     },
     "execution_count": 81,
     "metadata": {},
     "output_type": "execute_result"
    }
   ],
   "source": [
    "df[\"indicator_1000\"] = np.where(df[\"expected_recovery_amount\"] < 1000, 0, 1)\n",
    "\n",
    "# Select range\n",
    "era_900_1100 = df.loc[(df[\"expected_recovery_amount\"] < 1100) & \n",
    "                      (df[\"expected_recovery_amount\"] >= 900)]\n",
    "\n",
    "# Define X and y\n",
    "X = era_900_1100[[\"expected_recovery_amount\", \"indicator_1000\"]]\n",
    "y = era_900_1100[\"actual_recovery_amount\"]\n",
    "X = sm.add_constant(X)\n",
    "\n",
    "# Build linear regression model\n",
    "model = sm.OLS(y,X).fit(cov_type=\"HC3\")\n",
    "\n",
    "# Print the model summary\n",
    "model.summary()"
   ]
  },
  {
   "attachments": {},
   "cell_type": "markdown",
   "id": "5568e51e",
   "metadata": {},
   "source": [
    "The regression coefficient for the true threshold was statistically significant with an estimated impact of around \\\\$278.  This is greater than the \\$50 per customer needed to run this higher recovery strategy."
   ]
  },
  {
   "attachments": {},
   "cell_type": "markdown",
   "id": "9ce96f74",
   "metadata": {},
   "source": [
    "## 9. Regression modeling: adjusting the window\n",
    "<p>Before showing this to our manager, we want to convince ourselves that this result wasn't due to choosing an expected recovery amount window of \\$900 to \\$1100. Let's repeat this analysis for the window from \\$950 to \\$1050 to see if we get similar results.</p>"
   ]
  },
  {
   "cell_type": "code",
   "execution_count": 18,
   "id": "601a9595",
   "metadata": {},
   "outputs": [
    {
     "name": "stderr",
     "output_type": "stream",
     "text": [
      "/opt/anaconda3/lib/python3.9/site-packages/statsmodels/tsa/tsatools.py:142: FutureWarning: In a future version of pandas all arguments of concat except for the argument 'objs' will be keyword-only\n",
      "  x = pd.concat(x[::order], 1)\n"
     ]
    },
    {
     "data": {
      "text/html": [
       "<table class=\"simpletable\">\n",
       "<caption>OLS Regression Results</caption>\n",
       "<tr>\n",
       "  <th>Dep. Variable:</th>    <td>actual_recovery_amount</td> <th>  R-squared:         </th> <td>   0.283</td>\n",
       "</tr>\n",
       "<tr>\n",
       "  <th>Model:</th>                      <td>OLS</td>          <th>  Adj. R-squared:    </th> <td>   0.269</td>\n",
       "</tr>\n",
       "<tr>\n",
       "  <th>Method:</th>                <td>Least Squares</td>     <th>  F-statistic:       </th> <td>   18.99</td>\n",
       "</tr>\n",
       "<tr>\n",
       "  <th>Date:</th>                <td>Tue, 28 Feb 2023</td>    <th>  Prob (F-statistic):</th> <td>1.12e-07</td>\n",
       "</tr>\n",
       "<tr>\n",
       "  <th>Time:</th>                    <td>23:31:24</td>        <th>  Log-Likelihood:    </th> <td> -692.92</td>\n",
       "</tr>\n",
       "<tr>\n",
       "  <th>No. Observations:</th>         <td>    99</td>         <th>  AIC:               </th> <td>   1392.</td>\n",
       "</tr>\n",
       "<tr>\n",
       "  <th>Df Residuals:</th>             <td>    96</td>         <th>  BIC:               </th> <td>   1400.</td>\n",
       "</tr>\n",
       "<tr>\n",
       "  <th>Df Model:</th>                 <td>     2</td>         <th>                     </th>     <td> </td>   \n",
       "</tr>\n",
       "<tr>\n",
       "  <th>Covariance Type:</th>         <td>nonrobust</td>       <th>                     </th>     <td> </td>   \n",
       "</tr>\n",
       "</table>\n",
       "<table class=\"simpletable\">\n",
       "<tr>\n",
       "              <td></td>                <th>coef</th>     <th>std err</th>      <th>t</th>      <th>P>|t|</th>  <th>[0.025</th>    <th>0.975]</th>  \n",
       "</tr>\n",
       "<tr>\n",
       "  <th>const</th>                    <td> -279.5243</td> <td> 1840.707</td> <td>   -0.152</td> <td> 0.880</td> <td>-3933.298</td> <td> 3374.250</td>\n",
       "</tr>\n",
       "<tr>\n",
       "  <th>expected_recovery_amount</th> <td>    0.9189</td> <td>    1.886</td> <td>    0.487</td> <td> 0.627</td> <td>   -2.825</td> <td>    4.663</td>\n",
       "</tr>\n",
       "<tr>\n",
       "  <th>indicator_1000</th>           <td>  286.5337</td> <td>  111.352</td> <td>    2.573</td> <td> 0.012</td> <td>   65.502</td> <td>  507.566</td>\n",
       "</tr>\n",
       "</table>\n",
       "<table class=\"simpletable\">\n",
       "<tr>\n",
       "  <th>Omnibus:</th>       <td>39.302</td> <th>  Durbin-Watson:     </th> <td>   1.955</td>\n",
       "</tr>\n",
       "<tr>\n",
       "  <th>Prob(Omnibus):</th> <td> 0.000</td> <th>  Jarque-Bera (JB):  </th> <td>  82.258</td>\n",
       "</tr>\n",
       "<tr>\n",
       "  <th>Skew:</th>          <td> 1.564</td> <th>  Prob(JB):          </th> <td>1.37e-18</td>\n",
       "</tr>\n",
       "<tr>\n",
       "  <th>Kurtosis:</th>      <td> 6.186</td> <th>  Cond. No.          </th> <td>6.81e+04</td>\n",
       "</tr>\n",
       "</table><br/><br/>Notes:<br/>[1] Standard Errors assume that the covariance matrix of the errors is correctly specified.<br/>[2] The condition number is large, 6.81e+04. This might indicate that there are<br/>strong multicollinearity or other numerical problems."
      ],
      "text/plain": [
       "<class 'statsmodels.iolib.summary.Summary'>\n",
       "\"\"\"\n",
       "                              OLS Regression Results                              \n",
       "==================================================================================\n",
       "Dep. Variable:     actual_recovery_amount   R-squared:                       0.283\n",
       "Model:                                OLS   Adj. R-squared:                  0.269\n",
       "Method:                     Least Squares   F-statistic:                     18.99\n",
       "Date:                    Tue, 28 Feb 2023   Prob (F-statistic):           1.12e-07\n",
       "Time:                            23:31:24   Log-Likelihood:                -692.92\n",
       "No. Observations:                      99   AIC:                             1392.\n",
       "Df Residuals:                          96   BIC:                             1400.\n",
       "Df Model:                               2                                         \n",
       "Covariance Type:                nonrobust                                         \n",
       "============================================================================================\n",
       "                               coef    std err          t      P>|t|      [0.025      0.975]\n",
       "--------------------------------------------------------------------------------------------\n",
       "const                     -279.5243   1840.707     -0.152      0.880   -3933.298    3374.250\n",
       "expected_recovery_amount     0.9189      1.886      0.487      0.627      -2.825       4.663\n",
       "indicator_1000             286.5337    111.352      2.573      0.012      65.502     507.566\n",
       "==============================================================================\n",
       "Omnibus:                       39.302   Durbin-Watson:                   1.955\n",
       "Prob(Omnibus):                  0.000   Jarque-Bera (JB):               82.258\n",
       "Skew:                           1.564   Prob(JB):                     1.37e-18\n",
       "Kurtosis:                       6.186   Cond. No.                     6.81e+04\n",
       "==============================================================================\n",
       "\n",
       "Notes:\n",
       "[1] Standard Errors assume that the covariance matrix of the errors is correctly specified.\n",
       "[2] The condition number is large, 6.81e+04. This might indicate that there are\n",
       "strong multicollinearity or other numerical problems.\n",
       "\"\"\""
      ]
     },
     "execution_count": 18,
     "metadata": {},
     "output_type": "execute_result"
    }
   ],
   "source": [
    "# Redefine era_950_1050 so the indicator variable is included\n",
    "era_950_1050 = df.loc[(df[\"expected_recovery_amount\"] < 1050) & \n",
    "                      (df[\"expected_recovery_amount\"] >= 950)]\n",
    "\n",
    "# Define X and y \n",
    "X = era_950_1050[['expected_recovery_amount','indicator_1000']]\n",
    "y = era_950_1050['actual_recovery_amount']\n",
    "X = sm.add_constant(X)\n",
    "\n",
    "# Build linear regression model\n",
    "model = sm.OLS(y,X).fit()\n",
    "\n",
    "# Print the model summary\n",
    "model.summary()"
   ]
  },
  {
   "attachments": {},
   "cell_type": "markdown",
   "id": "40529620",
   "metadata": {},
   "source": [
    "<p> For the narrow interval, the regression coefficient for the true threshold was statistically significant (< 0.05) with an estimated impact of around \\$287 and a 95 percent confidence interval of \\$66 to \\$508. Even at the lower bound is therefore is larger than the incremental cost of running the higher recovery strategy which was \\$50 per customer.\n",
    "                                                                                               <p> Therefore, both using a wide (\\$900 to \\$1100) and narrower window (\\$950 to \\$1050), the incremental recovery amount at the higher recovery strategy is much greater than the \\$50 per customer it costs for the higher recovery strategy.  So we conclude that the higher recovery strategy is worth the extra cost of \\$50 per customer."
   ]
  },
  {
   "attachments": {},
   "cell_type": "markdown",
   "id": "dd6c8579",
   "metadata": {},
   "source": [
    "## Conclusion\n",
    "<p> Whether we use a wide window (\\$900 - \\$1100) or a narrower window (\\$950 = \\$1050), the incremental recovery amount at the higher recovery strategy is much greater than the \\$50 per customer it costs for the higher recovery strategy. So we can say that the higher recovery strategy is worth the extra \\$50 per customer that the bank is spending."
   ]
  },
  {
   "attachments": {},
   "cell_type": "markdown",
   "id": "389a1e3d",
   "metadata": {},
   "source": [
    "## References\n",
    "<p>\n",
    "1. Friedman H. Which debts are worth the bank's effort?: Data Science Project [Internet]. DataCamp. [cited 2023 Feb 27]. Available from: <a href=\"https://www.datacamp.com/projects/504\">https://www.datacamp.com/projects/504</a><p>\n",
    "2. Richardson K. Regression discontinuity: banking recovery [Internet]. Regression discontinuity: Banking recovery. [cited 2023 Feb 28]. Available from: <a href=\"https://rstudio-pubs-static.s3.amazonaws.com/491103_e9cc29ab609247c2aa27e6cc50c11263.html\">https://rstudio-pubs-static.s3.amazonaws.com/491103_e9cc29ab609247c2aa27e6cc50c11263.html</a><p>\n",
    "3. Kruskal–Wallis one-way analysis of variance [Internet]. Wikipedia. Wikimedia Foundation; 2022 [cited 2023 Mar 1]. Available from: <a href=\"https://en.wikipedia.org/wiki/Kruskal%E2%80%93Wallis_one-way_analysis_of_variance\">https://en.wikipedia.org/wiki/Kruskal%E2%80%93Wallis_one-way_analysis_of_variance </a><p>\n",
    "4. Marinescu I, Triantafillou S, Kording K. Regression discontinuity threshold optimization [Internet]. PLOS ONE. Public Library of Science; [cited 2023 Mar 1]. Available from: <a href=\"https://journals.plos.org/plosone/article?id=10.1371%2Fjournal.pone.0276755\">https://journals.plos.org/plosone/article?id=10.1371%2Fjournal.pone.0276755</a><p>\n",
    "5. Bock T. What is a Crosstab? [Internet]. Displayr. 2022 [cited 2023 Feb 28]. Available from:<a href=\"https://www.displayr.com/what-is-a-crosstab/\">https://www.displayr.com/what-is-a-crosstab/</a><p>\n",
    "6. Linear regression [Internet]. Python for Data Science. 2018 [cited 2023 Mar 1]. Available from: <a href=\"https://pythonfordatascienceorg.wordpress.com/linear-regression-python/\">https://pythonfordatascienceorg.wordpress.com/linear-regression-python/</a>"
   ]
  }
 ],
 "metadata": {
  "kernelspec": {
   "display_name": "Python 3 (ipykernel)",
   "language": "python",
   "name": "python3"
  },
  "language_info": {
   "codemirror_mode": {
    "name": "ipython",
    "version": 3
   },
   "file_extension": ".py",
   "mimetype": "text/x-python",
   "name": "python",
   "nbconvert_exporter": "python",
   "pygments_lexer": "ipython3",
   "version": "3.9.7"
  }
 },
 "nbformat": 4,
 "nbformat_minor": 5
}
